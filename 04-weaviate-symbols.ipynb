{
 "cells": [
  {
   "cell_type": "code",
   "execution_count": 1,
   "id": "c33e061a-3c67-4719-a9ec-88dcd3f3d5a8",
   "metadata": {
    "tags": []
   },
   "outputs": [
    {
     "name": "stdout",
     "output_type": "stream",
     "text": [
      "\u001b[31mERROR: pip's dependency resolver does not currently take into account all the packages that are installed. This behaviour is the source of the following dependency conflicts.\n",
      "kfp 2.9.0 requires protobuf<5,>=4.21.1, but you have protobuf 5.29.3 which is incompatible.\n",
      "kfp-kubernetes 1.3.0 requires protobuf<5,>=4.21.1, but you have protobuf 5.29.3 which is incompatible.\n",
      "kfp-pipeline-spec 0.4.0 requires protobuf<5,>=4.21.1, but you have protobuf 5.29.3 which is incompatible.\u001b[0m\u001b[31m\n",
      "\u001b[0m"
     ]
    }
   ],
   "source": [
    "!pip install pip gradio weaviate_client -Uq"
   ]
  },
  {
   "cell_type": "code",
   "execution_count": 2,
   "id": "02f2d3fd-781a-472b-b29a-c99bc3df5b15",
   "metadata": {
    "tags": []
   },
   "outputs": [
    {
     "name": "stderr",
     "output_type": "stream",
     "text": [
      "INFO:root:OLLAMA_API_ENDPOINT = http://ollama.ollama\n"
     ]
    }
   ],
   "source": [
    "import gradio as gr\n",
    "from huggingface_hub import InferenceClient\n",
    "import weaviate.classes as wvc\n",
    "import weaviate\n",
    "from weaviate.auth import AuthApiKey\n",
    "import logging\n",
    "import os\n",
    "import requests\n",
    "import json\n",
    "import weaviate\n",
    "\n",
    "ollama_api_endpoint = os.getenv(\"OLLAMA_HOST\", \"http://ollama.ollama\")\n",
    "ollama_vectorizer_model = model = \"all-minilm\"\n",
    "ollama_generative_model=\"granite3-dense:8b\"\n",
    "\n",
    "logging.basicConfig(level=logging.INFO)\n",
    "logging.info(f'OLLAMA_API_ENDPOINT = {ollama_api_endpoint}')"
   ]
  },
  {
   "cell_type": "code",
   "execution_count": 3,
   "id": "a2814fc4-5762-4665-9343-a5f4ff637e8f",
   "metadata": {
    "tags": []
   },
   "outputs": [],
   "source": [
    "def connect_weaviate_embedded():\n",
    "    logging.basicConfig(level=logging.INFO)\n",
    "    logging.info('Connecting to Weaviate embedded instance')\n",
    "    client = weaviate.connect_to_embedded(\n",
    "        environment_variables={\"ENABLE_MODULES\": \"text2vec-ollama,generative-ollama\"},\n",
    "        version=\"1.25.6\"\n",
    "    )\n",
    "    return client"
   ]
  },
  {
   "cell_type": "code",
   "execution_count": 4,
   "id": "d8d43ac6-7a50-469e-ba87-e5a4398a8994",
   "metadata": {
    "tags": []
   },
   "outputs": [
    {
     "name": "stderr",
     "output_type": "stream",
     "text": [
      "INFO:root:Connecting to Weaviate embedded instance\n",
      "INFO:weaviate-client:Binary /opt/app-root/src/.cache/weaviate-embedded did not exist. Downloading binary from https://github.com/weaviate/weaviate/releases/download/v1.25.6/weaviate-v1.25.6-Linux-amd64.tar.gz\n",
      "/usr/lib64/python3.11/tarfile.py:2282: RuntimeWarning: The default behavior of tarfile extraction has been changed to disallow common exploits (including CVE-2007-4559). By default, absolute/parent paths are disallowed and some mode bits are cleared. See https://access.redhat.com/articles/7004769 for more details.\n",
      "  warnings.warn(\n",
      "INFO:weaviate-client:Started /opt/app-root/src/.cache/weaviate-embedded: process ID 563\n",
      "{\"action\":\"startup\",\"default_vectorizer_module\":\"none\",\"level\":\"info\",\"msg\":\"the default vectorizer modules is set to \\\"none\\\", as a result all new schema classes without an explicit vectorizer setting, will use this vectorizer\",\"time\":\"2025-01-21T17:52:59Z\"}\n",
      "{\"action\":\"startup\",\"auto_schema_enabled\":true,\"level\":\"info\",\"msg\":\"auto schema enabled setting is set to \\\"true\\\"\",\"time\":\"2025-01-21T17:52:59Z\"}\n",
      "{\"level\":\"info\",\"msg\":\"No resource limits set, weaviate will use all available memory and CPU. To limit resources, set LIMIT_RESOURCES=true\",\"time\":\"2025-01-21T17:52:59Z\"}\n",
      "{\"level\":\"info\",\"msg\":\"open cluster service\",\"servers\":{\"Embedded_at_8079\":45927},\"time\":\"2025-01-21T17:52:59Z\"}\n",
      "{\"address\":\"10.128.1.90:45928\",\"level\":\"info\",\"msg\":\"starting cloud rpc server ...\",\"time\":\"2025-01-21T17:52:59Z\"}\n",
      "{\"level\":\"info\",\"msg\":\"starting raft sub-system ...\",\"time\":\"2025-01-21T17:52:59Z\"}\n",
      "{\"address\":\"10.128.1.90:45927\",\"level\":\"info\",\"msg\":\"tcp transport\",\"tcpMaxPool\":3,\"tcpTimeout\":10000000000,\"time\":\"2025-01-21T17:52:59Z\"}\n",
      "{\"level\":\"info\",\"msg\":\"loading local db\",\"time\":\"2025-01-21T17:52:59Z\"}\n",
      "{\"level\":\"info\",\"msg\":\"database has been successfully loaded\",\"n\":0,\"time\":\"2025-01-21T17:52:59Z\"}\n",
      "{\"level\":\"info\",\"metadata_only_voters\":false,\"msg\":\"construct a new raft node\",\"name\":\"Embedded_at_8079\",\"time\":\"2025-01-21T17:52:59Z\"}\n",
      "{\"action\":\"raft\",\"index\":0,\"level\":\"info\",\"msg\":\"raft initial configuration\",\"servers\":\"[[]]\",\"time\":\"2025-01-21T17:52:59Z\"}\n",
      "{\"last_snapshot_index\":0,\"last_store_applied_index\":0,\"last_store_log_applied_index\":0,\"level\":\"info\",\"msg\":\"raft node constructed\",\"raft_applied_index\":0,\"raft_last_index\":0,\"time\":\"2025-01-21T17:52:59Z\"}\n",
      "{\"action\":\"raft\",\"follower\":{},\"leader-address\":\"\",\"leader-id\":\"\",\"level\":\"info\",\"msg\":\"raft entering follower state\",\"time\":\"2025-01-21T17:52:59Z\"}\n",
      "{\"level\":\"warning\",\"msg\":\"raft no known peers, aborting election\",\"time\":\"2025-01-21T17:53:01Z\"}\n",
      "{\"action\":\"bootstrap\",\"error\":\"could not join a cluster from [10.128.1.90:45927]\",\"level\":\"warning\",\"msg\":\"failed to join cluster, will notify next if voter\",\"servers\":[\"10.128.1.90:45927\"],\"time\":\"2025-01-21T17:53:01Z\",\"voter\":true}\n",
      "{\"action\":\"bootstrap\",\"candidates\":[{\"Suffrage\":0,\"ID\":\"Embedded_at_8079\",\"Address\":\"10.128.1.90:45927\"}],\"level\":\"info\",\"msg\":\"starting cluster bootstrapping\",\"time\":\"2025-01-21T17:53:01Z\"}\n",
      "{\"action\":\"bootstrap\",\"level\":\"info\",\"msg\":\"notified peers this node is ready to join as voter\",\"servers\":[\"10.128.1.90:45927\"],\"time\":\"2025-01-21T17:53:01Z\"}\n",
      "{\"action\":\"grpc_startup\",\"level\":\"info\",\"msg\":\"grpc server listening at [::]:50050\",\"time\":\"2025-01-21T17:53:01Z\"}\n",
      "{\"action\":\"restapi_management\",\"level\":\"info\",\"msg\":\"Serving weaviate at http://127.0.0.1:8079\",\"time\":\"2025-01-21T17:53:01Z\"}\n",
      "INFO:httpx:HTTP Request: GET http://localhost:8079/v1/.well-known/openid-configuration \"HTTP/1.1 404 Not Found\"\n",
      "INFO:httpx:HTTP Request: GET http://localhost:8079/v1/meta \"HTTP/1.1 200 OK\"\n",
      "INFO:httpx:HTTP Request: GET http://localhost:8079/v1/.well-known/ready \"HTTP/1.1 503 Service Unavailable\"\n",
      "{\"action\":\"telemetry_push\",\"level\":\"info\",\"msg\":\"telemetry started\",\"payload\":\"\\u0026{MachineID:4760a033-8bc5-496c-801d-d7d41eee3dbf Type:INIT Version:1.25.6 NumObjects:0 OS:linux Arch:amd64 UsedModules:[]}\",\"time\":\"2025-01-21T17:53:02Z\"}\n",
      "INFO:httpx:HTTP Request: GET http://localhost:8079/v1/.well-known/ready \"HTTP/1.1 503 Service Unavailable\"\n",
      "{\"action\":\"raft\",\"last-leader-addr\":\"\",\"last-leader-id\":\"\",\"level\":\"warning\",\"msg\":\"raft heartbeat timeout reached, starting election\",\"time\":\"2025-01-21T17:53:03Z\"}\n",
      "{\"action\":\"raft\",\"level\":\"info\",\"msg\":\"raft entering candidate state\",\"node\":{},\"term\":2,\"time\":\"2025-01-21T17:53:03Z\"}\n",
      "{\"action\":\"raft\",\"level\":\"info\",\"msg\":\"raft election won\",\"tally\":1,\"term\":2,\"time\":\"2025-01-21T17:53:03Z\"}\n",
      "{\"action\":\"raft\",\"leader\":{},\"level\":\"info\",\"msg\":\"raft entering leader state\",\"time\":\"2025-01-21T17:53:03Z\"}\n",
      "{\"action\":\"bootstrap\",\"level\":\"info\",\"msg\":\"node reporting ready, node has probably recovered cluster from raft config. Exiting bootstrap process\",\"time\":\"2025-01-21T17:53:03Z\"}\n",
      "{\"address\":\"10.128.1.90:45927\",\"level\":\"info\",\"msg\":\"current Leader\",\"time\":\"2025-01-21T17:53:03Z\"}\n",
      "{\"level\":\"info\",\"msg\":\"starting migration from old schema\",\"time\":\"2025-01-21T17:53:03Z\"}\n",
      "{\"level\":\"info\",\"msg\":\"legacy schema is empty, nothing to migrate\",\"time\":\"2025-01-21T17:53:03Z\"}\n",
      "{\"level\":\"info\",\"msg\":\"migration from the old schema has been successfully completed\",\"time\":\"2025-01-21T17:53:03Z\"}\n",
      "INFO:httpx:HTTP Request: GET http://localhost:8079/v1/.well-known/ready \"HTTP/1.1 200 OK\"\n",
      "INFO:httpx:HTTP Request: GET https://pypi.org/pypi/weaviate-client/json \"HTTP/1.1 200 OK\"\n",
      "INFO:httpx:HTTP Request: GET http://localhost:8079/v1/.well-known/ready \"HTTP/1.1 200 OK\"\n",
      "INFO:root:\n",
      "INFO:httpx:HTTP Request: GET http://localhost:8079/v1/nodes \"HTTP/1.1 200 OK\"\n",
      "INFO:root:Found 1 Weaviate nodes.\n",
      "INFO:root:\n",
      "INFO:httpx:HTTP Request: GET http://localhost:8079/v1/nodes \"HTTP/1.1 200 OK\"\n",
      "INFO:root:Node(git_hash='\\'\"$GITHASH\"\\'', name='Embedded_at_8079', shards=None, stats=None, status='HEALTHY', version='1.25.6')\n",
      "INFO:root:\n",
      "INFO:httpx:HTTP Request: GET http://localhost:8079/v1/meta \"HTTP/1.1 200 OK\"\n",
      "INFO:root:client.get_meta(): {'hostname': 'http://127.0.0.1:8079', 'modules': {'generative-ollama': {'documentationHref': 'https://github.com/ollama/ollama/blob/main/docs/api.md#generate-a-completion', 'name': 'Generative Search - Ollama'}, 'text2vec-ollama': {'documentationHref': 'https://github.com/ollama/ollama/blob/main/docs/api.md#generate-embeddings', 'name': 'Ollama Module'}}, 'version': '1.25.6'}\n"
     ]
    }
   ],
   "source": [
    "client = connect_weaviate_embedded()\n",
    "\n",
    "if client.is_ready():\n",
    "    logging.info('')\n",
    "    logging.info(f'Found {len(client.cluster.nodes())} Weaviate nodes.')\n",
    "    logging.info('')\n",
    "    for node in client.cluster.nodes():\n",
    "        logging.info(node)\n",
    "        logging.info('')\n",
    "    logging.info(f'client.get_meta(): {client.get_meta()}')\n",
    "else:\n",
    "    logging.error(\"Client is not ready\")"
   ]
  },
  {
   "cell_type": "code",
   "execution_count": 5,
   "id": "51ca0be5-5f36-44a3-ba9c-085193782057",
   "metadata": {
    "tags": []
   },
   "outputs": [
    {
     "name": "stderr",
     "output_type": "stream",
     "text": [
      "INFO:httpx:HTTP Request: GET http://localhost:8079/v1/schema \"HTTP/1.1 200 OK\"\n"
     ]
    }
   ],
   "source": [
    "client.collections.delete_all()"
   ]
  },
  {
   "cell_type": "code",
   "execution_count": 6,
   "id": "dd8928ba-2ac9-4816-a484-cd942c1752bf",
   "metadata": {
    "tags": []
   },
   "outputs": [
    {
     "name": "stderr",
     "output_type": "stream",
     "text": [
      "{\"level\":\"warning\",\"msg\":\"prop len tracker file /opt/app-root/src/.local/share/weaviate/question/xZQprp1wmyU4/proplengths does not exist, creating new tracker\",\"time\":\"2025-01-21T17:53:03Z\"}\n",
      "{\"action\":\"hnsw_prefill_cache_async\",\"level\":\"info\",\"msg\":\"not waiting for vector cache prefill, running in background\",\"time\":\"2025-01-21T17:53:03Z\",\"wait_for_cache_prefill\":false}\n",
      "{\"level\":\"info\",\"msg\":\"Created shard question_xZQprp1wmyU4 in 1.138338ms\",\"time\":\"2025-01-21T17:53:03Z\"}\n",
      "{\"action\":\"hnsw_vector_cache_prefill\",\"count\":1000,\"index_id\":\"main\",\"level\":\"info\",\"limit\":1000000000000,\"msg\":\"prefilled vector cache\",\"time\":\"2025-01-21T17:53:03Z\",\"took\":53501}\n",
      "INFO:httpx:HTTP Request: POST http://localhost:8079/v1/schema \"HTTP/1.1 200 OK\"\n",
      "INFO:root:Request status_code = 200\n",
      "INFO:root:Importing 1000 Questions...\n",
      "INFO:root:Finished Importing Questions\n",
      "INFO:httpx:HTTP Request: GET http://localhost:8079/v1/schema/Question \"HTTP/1.1 200 OK\"\n",
      "INFO:root:Collection: <weaviate.Collection config={\n",
      "  \"name\": \"Question\",\n",
      "  \"description\": null,\n",
      "  \"generative_config\": {\n",
      "    \"generative\": \"generative-ollama\",\n",
      "    \"model\": {\n",
      "      \"apiEndpoint\": \"http://ollama.ollama\",\n",
      "      \"model\": \"granite3-dense:8b\"\n",
      "    }\n",
      "  },\n",
      "  \"inverted_index_config\": {\n",
      "    \"bm25\": {\n",
      "      \"b\": 0.75,\n",
      "      \"k1\": 1.2\n",
      "    },\n",
      "    \"cleanup_interval_seconds\": 60,\n",
      "    \"index_null_state\": false,\n",
      "    \"index_property_length\": false,\n",
      "    \"index_timestamps\": false,\n",
      "    \"stopwords\": {\n",
      "      \"preset\": \"en\",\n",
      "      \"additions\": null,\n",
      "      \"removals\": null\n",
      "    }\n",
      "  },\n",
      "  \"multi_tenancy_config\": {\n",
      "    \"enabled\": false,\n",
      "    \"auto_tenant_creation\": false,\n",
      "    \"auto_tenant_activation\": false\n",
      "  },\n",
      "  \"properties\": [\n",
      "    {\n",
      "      \"name\": \"category\",\n",
      "      \"description\": \"This property was generated by Weaviate's auto-schema feature on Tue Jan 21 17:53:04 2025\",\n",
      "      \"data_type\": \"text\",\n",
      "      \"index_filterable\": true,\n",
      "      \"index_range_filters\": false,\n",
      "      \"index_searchable\": true,\n",
      "      \"nested_properties\": null,\n",
      "      \"tokenization\": \"word\",\n",
      "      \"vectorizer_config\": {\n",
      "        \"skip\": false,\n",
      "        \"vectorize_property_name\": false\n",
      "      },\n",
      "      \"vectorizer\": \"text2vec-ollama\"\n",
      "    },\n",
      "    {\n",
      "      \"name\": \"question\",\n",
      "      \"description\": \"This property was generated by Weaviate's auto-schema feature on Tue Jan 21 17:53:04 2025\",\n",
      "      \"data_type\": \"text\",\n",
      "      \"index_filterable\": true,\n",
      "      \"index_range_filters\": false,\n",
      "      \"index_searchable\": true,\n",
      "      \"nested_properties\": null,\n",
      "      \"tokenization\": \"word\",\n",
      "      \"vectorizer_config\": {\n",
      "        \"skip\": false,\n",
      "        \"vectorize_property_name\": false\n",
      "      },\n",
      "      \"vectorizer\": \"text2vec-ollama\"\n",
      "    },\n",
      "    {\n",
      "      \"name\": \"answer\",\n",
      "      \"description\": \"This property was generated by Weaviate's auto-schema feature on Tue Jan 21 17:53:04 2025\",\n",
      "      \"data_type\": \"text\",\n",
      "      \"index_filterable\": true,\n",
      "      \"index_range_filters\": false,\n",
      "      \"index_searchable\": true,\n",
      "      \"nested_properties\": null,\n",
      "      \"tokenization\": \"word\",\n",
      "      \"vectorizer_config\": {\n",
      "        \"skip\": false,\n",
      "        \"vectorize_property_name\": false\n",
      "      },\n",
      "      \"vectorizer\": \"text2vec-ollama\"\n",
      "    },\n",
      "    {\n",
      "      \"name\": \"air_date\",\n",
      "      \"description\": \"This property was generated by Weaviate's auto-schema feature on Tue Jan 21 17:53:04 2025\",\n",
      "      \"data_type\": \"text\",\n",
      "      \"index_filterable\": true,\n",
      "      \"index_range_filters\": false,\n",
      "      \"index_searchable\": true,\n",
      "      \"nested_properties\": null,\n",
      "      \"tokenization\": \"word\",\n",
      "      \"vectorizer_config\": {\n",
      "        \"skip\": false,\n",
      "        \"vectorize_property_name\": false\n",
      "      },\n",
      "      \"vectorizer\": \"text2vec-ollama\"\n",
      "    },\n",
      "    {\n",
      "      \"name\": \"value\",\n",
      "      \"description\": \"This property was generated by Weaviate's auto-schema feature on Tue Jan 21 17:53:04 2025\",\n",
      "      \"data_type\": \"number\",\n",
      "      \"index_filterable\": true,\n",
      "      \"index_range_filters\": false,\n",
      "      \"index_searchable\": false,\n",
      "      \"nested_properties\": null,\n",
      "      \"tokenization\": null,\n",
      "      \"vectorizer_config\": {\n",
      "        \"skip\": false,\n",
      "        \"vectorize_property_name\": false\n",
      "      },\n",
      "      \"vectorizer\": \"text2vec-ollama\"\n",
      "    },\n",
      "    {\n",
      "      \"name\": \"round\",\n",
      "      \"description\": \"This property was generated by Weaviate's auto-schema feature on Tue Jan 21 17:53:04 2025\",\n",
      "      \"data_type\": \"text\",\n",
      "      \"index_filterable\": true,\n",
      "      \"index_range_filters\": false,\n",
      "      \"index_searchable\": true,\n",
      "      \"nested_properties\": null,\n",
      "      \"tokenization\": \"word\",\n",
      "      \"vectorizer_config\": {\n",
      "        \"skip\": false,\n",
      "        \"vectorize_property_name\": false\n",
      "      },\n",
      "      \"vectorizer\": \"text2vec-ollama\"\n",
      "    }\n",
      "  ],\n",
      "  \"references\": [],\n",
      "  \"replication_config\": {\n",
      "    \"factor\": 1,\n",
      "    \"async_enabled\": false,\n",
      "    \"deletion_strategy\": \"NoAutomatedResolution\"\n",
      "  },\n",
      "  \"reranker_config\": null,\n",
      "  \"sharding_config\": {\n",
      "    \"virtual_per_physical\": 128,\n",
      "    \"desired_count\": 1,\n",
      "    \"actual_count\": 1,\n",
      "    \"desired_virtual_count\": 128,\n",
      "    \"actual_virtual_count\": 128,\n",
      "    \"key\": \"_id\",\n",
      "    \"strategy\": \"hash\",\n",
      "    \"function\": \"murmur3\"\n",
      "  },\n",
      "  \"vector_index_config\": {\n",
      "    \"quantizer\": null,\n",
      "    \"cleanup_interval_seconds\": 300,\n",
      "    \"distance_metric\": \"cosine\",\n",
      "    \"dynamic_ef_min\": 100,\n",
      "    \"dynamic_ef_max\": 500,\n",
      "    \"dynamic_ef_factor\": 8,\n",
      "    \"ef\": -1,\n",
      "    \"ef_construction\": 128,\n",
      "    \"filter_strategy\": \"sweeping\",\n",
      "    \"flat_search_cutoff\": 40000,\n",
      "    \"max_connections\": 64,\n",
      "    \"skip\": false,\n",
      "    \"vector_cache_max_objects\": 1000000000000\n",
      "  },\n",
      "  \"vector_index_type\": \"hnsw\",\n",
      "  \"vectorizer_config\": {\n",
      "    \"vectorizer\": \"text2vec-ollama\",\n",
      "    \"model\": {\n",
      "      \"apiEndpoint\": \"http://ollama.ollama\",\n",
      "      \"model\": \"all-minilm\"\n",
      "    },\n",
      "    \"vectorize_collection_name\": true\n",
      "  },\n",
      "  \"vectorizer\": \"text2vec-ollama\",\n",
      "  \"vector_config\": null\n",
      "}>\n"
     ]
    }
   ],
   "source": [
    "# lets create the collection, specifing our base url accordingling\n",
    "questions = client.collections.create(\n",
    "    \"Question\",\n",
    "    vectorizer_config=wvc.config.Configure.Vectorizer.text2vec_ollama(\n",
    "        api_endpoint=ollama_api_endpoint,\n",
    "        model=ollama_vectorizer_model\n",
    "    ),\n",
    "    generative_config=wvc.config.Configure.Generative.ollama(\n",
    "        api_endpoint=ollama_api_endpoint,\n",
    "        model=ollama_generative_model\n",
    "    )\n",
    ")\n",
    "\n",
    "resp = requests.get('https://people.redhat.com/bkozdemb/downloads/jeopardy_1k.json')\n",
    "logging.info(f'Request status_code = {resp.status_code}')\n",
    "\n",
    "if resp.status_code == 200:\n",
    "    data = json.loads(resp.text)\n",
    "\n",
    "    question_objs = list()\n",
    "    for i, d in enumerate(data):\n",
    "        question_objs.append({\n",
    "            \"answer\": d[\"Answer\"],\n",
    "            \"question\": d[\"Question\"],\n",
    "            \"category\": d[\"Category\"],\n",
    "            \"air_date\": d[\"Air Date\"],\n",
    "            \"round\": d[\"Round\"],\n",
    "            \"value\": d[\"Value\"]\n",
    "    })\n",
    "\n",
    "    logging.info('Importing 1000 Questions...')\n",
    "    questions = client.collections.get(\"Question\")\n",
    "    questions.data.insert_many(question_objs)\n",
    "    logging.info('Finished Importing Questions')\n",
    "\n",
    "    logging.info(f'Collection: {questions}')\n",
    "else:\n",
    "    logging.error('Error getting Jeopardy questions!')\n",
    "    logging.error(f'status_code = {resp.status_code}, Reason: {resp.reason}')\n",
    "    "
   ]
  },
  {
   "cell_type": "code",
   "execution_count": 7,
   "id": "bcb1650a-ae0b-4058-adc1-aed752b37a78",
   "metadata": {
    "tags": []
   },
   "outputs": [],
   "source": [
    "def respond(query='computers', task='Summarize', limit=1) -> str:\n",
    "    print(f'\\nPerforming generative search, query = {query}, limit = {limit}.')\n",
    "    print(f'Prompt: {task}')\n",
    "    print(f'limit = {limit}')\n",
    "    response = questions.generate.near_text(\n",
    "        query=query,\n",
    "        limit=limit,\n",
    "        grouped_task=task\n",
    "    )\n",
    "    return response.generated"
   ]
  },
  {
   "cell_type": "code",
   "execution_count": 8,
   "id": "25bd7e5d-3e17-4898-8484-dd911dd24735",
   "metadata": {
    "tags": []
   },
   "outputs": [
    {
     "name": "stderr",
     "output_type": "stream",
     "text": [
      "/opt/app-root/lib64/python3.11/site-packages/uvicorn/protocols/websockets/websockets_impl.py:17: DeprecationWarning: websockets.server.WebSocketServerProtocol is deprecated\n",
      "  from websockets.server import WebSocketServerProtocol\n"
     ]
    },
    {
     "name": "stdout",
     "output_type": "stream",
     "text": [
      "* Running on local URL:  http://0.0.0.0:8082\n"
     ]
    },
    {
     "name": "stderr",
     "output_type": "stream",
     "text": [
      "INFO:httpx:HTTP Request: GET https://api.gradio.app/pkg-version \"HTTP/1.1 200 OK\"\n",
      "INFO:httpx:HTTP Request: GET http://localhost:8082/gradio_api/startup-events \"HTTP/1.1 200 OK\"\n",
      "INFO:httpx:HTTP Request: HEAD http://localhost:8082/ \"HTTP/1.1 200 OK\"\n",
      "INFO:httpx:HTTP Request: GET https://api.gradio.app/v3/tunnel-request \"HTTP/1.1 200 OK\"\n"
     ]
    },
    {
     "name": "stdout",
     "output_type": "stream",
     "text": [
      "* Running on public URL: https://56fd56cd257760ee2f.gradio.live\n",
      "\n",
      "This share link expires in 72 hours. For free permanent hosting and GPU upgrades, run `gradio deploy` from the terminal in the working directory to deploy to Hugging Face Spaces (https://huggingface.co/spaces)\n"
     ]
    },
    {
     "name": "stderr",
     "output_type": "stream",
     "text": [
      "INFO:httpx:HTTP Request: HEAD https://56fd56cd257760ee2f.gradio.live \"HTTP/1.1 200 OK\"\n"
     ]
    },
    {
     "data": {
      "text/html": [
       "<div><iframe src=\"https://56fd56cd257760ee2f.gradio.live\" width=\"100%\" height=\"500\" allow=\"autoplay; camera; microphone; clipboard-read; clipboard-write;\" frameborder=\"0\" allowfullscreen></iframe></div>"
      ],
      "text/plain": [
       "<IPython.core.display.HTML object>"
      ]
     },
     "metadata": {},
     "output_type": "display_data"
    },
    {
     "name": "stdout",
     "output_type": "stream",
     "text": [
      "\n",
      "Performing generative search, query = Consumer Products, limit = 1.\n",
      "Prompt: Summarize\n",
      "limit = 1\n"
     ]
    },
    {
     "name": "stderr",
     "output_type": "stream",
     "text": [
      "{\"action\":\"restapi_management\",\"level\":\"info\",\"msg\":\"Shutting down... \",\"time\":\"2025-01-21T17:54:50Z\"}\n",
      "{\"action\":\"restapi_management\",\"level\":\"info\",\"msg\":\"Stopped serving weaviate at http://127.0.0.1:8079\",\"time\":\"2025-01-21T17:54:50Z\"}\n",
      "{\"action\":\"telemetry_push\",\"level\":\"info\",\"msg\":\"telemetry terminated\",\"payload\":\"\\u0026{MachineID:4760a033-8bc5-496c-801d-d7d41eee3dbf Type:TERMINATE Version:1.25.6 NumObjects:1000 OS:linux Arch:amd64 UsedModules:[generative-ollama text2vec-ollama]}\",\"time\":\"2025-01-21T17:54:50Z\"}\n",
      "{\"level\":\"info\",\"msg\":\"closing raft FSM store ...\",\"time\":\"2025-01-21T17:54:50Z\"}\n",
      "{\"level\":\"info\",\"msg\":\"shutting down raft sub-system ...\",\"time\":\"2025-01-21T17:54:50Z\"}\n",
      "{\"level\":\"info\",\"msg\":\"transferring leadership to another server\",\"time\":\"2025-01-21T17:54:50Z\"}\n",
      "{\"error\":\"cannot find peer\",\"level\":\"error\",\"msg\":\"transferring leadership\",\"time\":\"2025-01-21T17:54:50Z\"}\n",
      "{\"level\":\"info\",\"msg\":\"closing raft-net ...\",\"time\":\"2025-01-21T17:54:50Z\"}\n",
      "{\"level\":\"info\",\"msg\":\"closing log store ...\",\"time\":\"2025-01-21T17:54:50Z\"}\n",
      "{\"level\":\"info\",\"msg\":\"closing data store ...\",\"time\":\"2025-01-21T17:54:50Z\"}\n",
      "{\"level\":\"info\",\"msg\":\"closing loaded database ...\",\"time\":\"2025-01-21T17:54:50Z\"}\n",
      "{\"level\":\"info\",\"msg\":\"closing raft-rpc client ...\",\"time\":\"2025-01-21T17:54:50Z\"}\n",
      "{\"level\":\"info\",\"msg\":\"closing raft-rpc server ...\",\"time\":\"2025-01-21T17:54:50Z\"}\n"
     ]
    }
   ],
   "source": [
    "with gr.Blocks(title=\"Search the Jeopardy Vector Database. (powered by Weaviate and Ollama)\") as demo:\n",
    "            gr.Markdown(\"\"\"# Search and summarize the Jeopardy Vector Database. (Powered by Weaviate and Ollama)\"\"\")\n",
    "            semantic_examples = [\n",
    "                [\"Nature\"],\n",
    "                [\"Music\"],\n",
    "                [\"Wine\"],\n",
    "                [\"Consumer Products\"],\n",
    "                [\"Sports\"],\n",
    "                [\"Fishing\"],\n",
    "                [\"Food\"],\n",
    "                [\"Weather\"]\n",
    "            ]\n",
    "            semantic_input_text = gr.Textbox(label=\"Enter a search concept or choose an example below:\", \n",
    "                value=semantic_examples[0][0])\n",
    "            gr.Examples(semantic_examples, inputs=semantic_input_text, label=\"Example search concepts:\")\n",
    "            vdb_button = gr.Button(value=\"Search and Summarize the Jeopardy Vector Database.\")\n",
    "            vdb_button.click(fn=respond, inputs=[semantic_input_text], outputs=gr.Textbox(label=\"Search Results\"))\n",
    "            \n",
    "\n",
    "if __name__ == \"__main__\":\n",
    "    demo.launch(server_name='0.0.0.0', server_port=8082, share=True)"
   ]
  },
  {
   "cell_type": "code",
   "execution_count": null,
   "id": "fcc03b89-88e8-423e-8a7a-960656dec6d4",
   "metadata": {},
   "outputs": [],
   "source": []
  }
 ],
 "metadata": {
  "kernelspec": {
   "display_name": "Python 3.11",
   "language": "python",
   "name": "python3"
  },
  "language_info": {
   "codemirror_mode": {
    "name": "ipython",
    "version": 3
   },
   "file_extension": ".py",
   "mimetype": "text/x-python",
   "name": "python",
   "nbconvert_exporter": "python",
   "pygments_lexer": "ipython3",
   "version": "3.11.7"
  }
 },
 "nbformat": 4,
 "nbformat_minor": 5
}
